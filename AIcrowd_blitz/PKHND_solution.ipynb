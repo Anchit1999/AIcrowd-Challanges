{
  "nbformat": 4,
  "nbformat_minor": 0,
  "metadata": {
    "kernelspec": {
      "display_name": "Python 3",
      "language": "python",
      "name": "python3"
    },
    "language_info": {
      "codemirror_mode": {
        "name": "ipython",
        "version": 3
      },
      "file_extension": ".py",
      "mimetype": "text/x-python",
      "name": "python",
      "nbconvert_exporter": "python",
      "pygments_lexer": "ipython3",
      "version": "3.7.3"
    },
    "colab": {
      "name": "PKHND_solution",
      "provenance": [],
      "toc_visible": true
    }
  },
  "cells": [
    {
      "cell_type": "markdown",
      "metadata": {
        "id": "yTCOzoBdtOzR",
        "colab_type": "text"
      },
      "source": [
        "# PKHND solution\n",
        "#### Author : Hard_drive_corrupted(Pulkit Gera and Anchit Gupta)"
      ]
    },
    {
      "cell_type": "markdown",
      "metadata": {
        "id": "WxGn8wDXtOzV",
        "colab_type": "text"
      },
      "source": [
        "## To open this notebook on Google Computing platform Colab, click below!\n"
      ]
    },
    {
      "cell_type": "markdown",
      "metadata": {
        "id": "PIArW4zRtOzY",
        "colab_type": "text"
      },
      "source": [
        "[![Open In Colab](https://colab.research.google.com/assets/colab-badge.svg)](https://colab.research.google.com/gist/aicrowd-bot/005cd2a9231779a260fc4bd96159dff6)\n"
      ]
    },
    {
      "cell_type": "markdown",
      "metadata": {
        "id": "cPBahNihudT0",
        "colab_type": "text"
      },
      "source": [
        "## Solution\n",
        "We simply check the different hands and programatically predict the label.\n",
        "+ 0: Nothing in hand; not a recognized poker hand \n",
        "+ 1: One pair; one pair of equal ranks within five cards\n",
        "+ 2: Two pairs; two pairs of equal ranks within five cards\n",
        "+ 3: Three of a kind; three equal ranks within five cards\n",
        "+ 4: Straight; five cards, sequentially ranked with no gaps\n",
        "+ 5: Flush; five cards with the same suit\n",
        "+ 6: Full house; pair + different rank three of a kind\n",
        "+ 7: Four of a kind; four equal ranks within five cards\n",
        "+ 8: Straight flush; straight + flush\n",
        "+ 9: Royal flush; {Ace, King, Queen, Jack, Ten} + flush\n",
        "We check for all and accordingly assign"
      ]
    },
    {
      "cell_type": "markdown",
      "metadata": {
        "id": "k1ZCguaHtOzu",
        "colab_type": "text"
      },
      "source": [
        "## Download data\n",
        "The first step is to download out train test data. We will be training a classifier on the train data and make predictions on test data. We submit our predictions\n"
      ]
    },
    {
      "cell_type": "code",
      "metadata": {
        "id": "zaCfwyxetOzw",
        "colab_type": "code",
        "colab": {}
      },
      "source": [
        "!wget https://s3.eu-central-1.wasabisys.com/aicrowd-public-datasets/aicrowd_educational_pkhnd/data/public/test.csv\n",
        "!wget https://s3.eu-central-1.wasabisys.com/aicrowd-public-datasets/aicrowd_educational_pkhnd/data/public/train.zip\n",
        "!unzip train.zip"
      ],
      "execution_count": 0,
      "outputs": []
    },
    {
      "cell_type": "markdown",
      "metadata": {
        "id": "ElVHdvVStOz5",
        "colab_type": "text"
      },
      "source": [
        "\n",
        "## Import packages"
      ]
    },
    {
      "cell_type": "code",
      "metadata": {
        "id": "S4yy8C7ctOz6",
        "colab_type": "code",
        "colab": {}
      },
      "source": [
        "import pandas as pd\n",
        "import numpy as np\n",
        "from sklearn.model_selection import train_test_split\n",
        "from sklearn.linear_model import LogisticRegression\n",
        "from sklearn.svm import SVC\n",
        "from sklearn.tree import DecisionTreeClassifier\n",
        "from sklearn.metrics import f1_score,precision_score,recall_score,accuracy_score\n",
        "from tqdm import tqdm"
      ],
      "execution_count": 0,
      "outputs": []
    },
    {
      "cell_type": "markdown",
      "metadata": {
        "id": "ENz1B5igtO0E",
        "colab_type": "text"
      },
      "source": [
        "## Load Data\n",
        "We use pandas library to load our data. Pandas loads them into dataframes which helps us analyze our data easily. Learn more about it [here](https://www.tutorialspoint.com/python_data_science/python_pandas.htm)"
      ]
    },
    {
      "cell_type": "code",
      "metadata": {
        "id": "LRH0x7dgtO0G",
        "colab_type": "code",
        "colab": {}
      },
      "source": [
        "train_data_path = \"train.csv\" #path where data is stored"
      ],
      "execution_count": 0,
      "outputs": []
    },
    {
      "cell_type": "code",
      "metadata": {
        "id": "W7mFrCaLtO0P",
        "colab_type": "code",
        "colab": {}
      },
      "source": [
        "train_data = pd.read_csv(train_data_path) #load data in dataframe using pandas"
      ],
      "execution_count": 0,
      "outputs": []
    },
    {
      "cell_type": "markdown",
      "metadata": {
        "id": "dqbPRVwDtO0Z",
        "colab_type": "text"
      },
      "source": [
        "## Visualize data"
      ]
    },
    {
      "cell_type": "code",
      "metadata": {
        "id": "ThrjrpqmtO0b",
        "colab_type": "code",
        "colab": {}
      },
      "source": [
        "train_data.head()"
      ],
      "execution_count": 0,
      "outputs": []
    },
    {
      "cell_type": "markdown",
      "metadata": {
        "id": "GwZBZn_ztO0i",
        "colab_type": "text"
      },
      "source": [
        "We can see there are 11 column where first 10 column contains the cards information and the last one describing the hand it makes. 1st and 2nd column contains suit and rank of first card respectively, 3rd and 4th column suit and rank of 2nd card and so on."
      ]
    },
    {
      "cell_type": "code",
      "metadata": {
        "id": "KHH5NWO3t_Me",
        "colab_type": "code",
        "colab": {}
      },
      "source": [
        "def hand_check(hand_data):\n",
        "    val = 0\n",
        "    suits = []\n",
        "    ranks = []\n",
        "    \n",
        "    for i in range(0, 10, 2):\n",
        "        suits.append(hand_data[i])\n",
        "        ranks.append(hand_data[i+1])\n",
        "        \n",
        "    suits, = np.asarray(suits)\n",
        "    ranks = np.asarray(ranks)\n",
        "    \n",
        "    uniq_r, counts_r = np.unique(ranks, return_counts=True)\n",
        "    uniq_s, counts_s = np.unique(suits, return_counts=True)\n",
        "    \n",
        "    #checking for one pair, two pairs, three of a kind and four of a kind\n",
        "    cnt = 0\n",
        "    for i in range(len(counts_r)):\n",
        "        if counts_r[i] > 1:\n",
        "            cnt += 1\n",
        "            if counts_r[i] == 3:\n",
        "                val = max(val, 3)\n",
        "            if counts_r[i] == 4:\n",
        "                val = max(val, 7)\n",
        "    if cnt == 1:\n",
        "        val = max(val, 1)\n",
        "    elif cnt == 2:\n",
        "        val = max(val, 2)\n",
        "        \n",
        "    #checking for flush\n",
        "    if len(uniq_s) == 1:\n",
        "        val = max(val, 5)\n",
        "    \n",
        "    #checking for straight, straight flush and royal flush\n",
        "    check = 1\n",
        "    check2 = 0\n",
        "    sorted_uniq_r = sorted(uniq_r)\n",
        "    if len(uniq_r) == 5:\n",
        "        for i in range(1, 5):\n",
        "            if sorted_uniq_r[i] != sorted_uniq_r[i-1]+1:\n",
        "                check = 0\n",
        "        if sorted_uniq_r[0] == 1:\n",
        "            if sorted_uniq_r[1] == 10 and sorted_uniq_r[2] == 11 and sorted_uniq_r[3] == 12 and sorted_uniq_r[4] == 13:\n",
        "                check2 = 1\n",
        "            \n",
        "        if check == 1 or check2 == 1:\n",
        "            val = max(val, 4)\n",
        "            if len(uniq_s) == 1:\n",
        "                val = max(val, 8)\n",
        "                if check2 == 1:\n",
        "                    val = max(val, 9)\n",
        "                    \n",
        "    #checking for full house\n",
        "    cnt2 = 0\n",
        "    cnt3 = 0\n",
        "    for i in range(len(counts_r)):\n",
        "        if counts_r[i] == 2:\n",
        "            cnt2 = 1\n",
        "        if counts_r[i] == 3:\n",
        "            cnt3 = 1\n",
        "    if cnt3 == cnt2 and cnt2 == 1:\n",
        "        val = max(val, 6)\n",
        "        \n",
        "    return val\n"
      ],
      "execution_count": 0,
      "outputs": []
    },
    {
      "cell_type": "code",
      "metadata": {
        "id": "YaBEGtIPuB9j",
        "colab_type": "code",
        "colab": {}
      },
      "source": [
        "def run_model(data_frame, mode='train'):\n",
        "    rows = data_frame.shape[0]\n",
        "    \n",
        "    res = []\n",
        "    \n",
        "    for i in tqdm(range(rows)):\n",
        "        res.append(hand_check(np.array(data_frame.iloc[i, :])[0:10]))\n",
        "    \n",
        "    if mode == 'train':\n",
        "        acc = 0\n",
        "        for i in range(rows):\n",
        "            if res[i] == np.array(data_frame.iloc[i, :])[10]:\n",
        "                acc += 1\n",
        "            \n",
        "        return res, acc/rows\n",
        "    elif mode == 'test':\n",
        "        return res\n"
      ],
      "execution_count": 0,
      "outputs": []
    },
    {
      "cell_type": "code",
      "metadata": {
        "id": "nQo5L6nouEYq",
        "colab_type": "code",
        "colab": {
          "base_uri": "https://localhost:8080/",
          "height": 34
        },
        "outputId": "136498d4-3030-4f90-aff1-88f83c2513ad"
      },
      "source": [
        "res, acc = run_model(train_data)"
      ],
      "execution_count": 19,
      "outputs": [
        {
          "output_type": "stream",
          "text": [
            "100%|██████████| 500/500 [00:00<00:00, 3178.81it/s]\n"
          ],
          "name": "stderr"
        }
      ]
    },
    {
      "cell_type": "code",
      "metadata": {
        "id": "tKZKyQJIvSSE",
        "colab_type": "code",
        "colab": {
          "base_uri": "https://localhost:8080/",
          "height": 34
        },
        "outputId": "d6d24d1b-7797-49cc-9b07-c2690d2cc299"
      },
      "source": [
        "print(\"Accuracy : \",acc)"
      ],
      "execution_count": 22,
      "outputs": [
        {
          "output_type": "stream",
          "text": [
            "Accuracy :  1.0\n"
          ],
          "name": "stdout"
        }
      ]
    },
    {
      "cell_type": "markdown",
      "metadata": {
        "id": "bvjSYDgOtO1k",
        "colab_type": "text"
      },
      "source": [
        "## Load Test Set\n",
        "Load the test data now"
      ]
    },
    {
      "cell_type": "code",
      "metadata": {
        "id": "MpJCQkQYtO1p",
        "colab_type": "code",
        "colab": {
          "base_uri": "https://localhost:8080/",
          "height": 34
        },
        "outputId": "d960c229-77a3-462b-8ce0-eeade2ba2209"
      },
      "source": [
        "final_test_path = \"test.csv\"\n",
        "final_test = pd.read_csv(final_test_path)\n",
        "submission = run_model(final_test,'test')"
      ],
      "execution_count": 23,
      "outputs": [
        {
          "output_type": "stream",
          "text": [
            "100%|██████████| 25010/25010 [00:06<00:00, 3576.33it/s]\n"
          ],
          "name": "stderr"
        }
      ]
    },
    {
      "cell_type": "markdown",
      "metadata": {
        "id": "vLDYN3zxtO11",
        "colab_type": "text"
      },
      "source": [
        "## Save the prediction to csv"
      ]
    },
    {
      "cell_type": "code",
      "metadata": {
        "id": "MwW6QEAUtO12",
        "colab_type": "code",
        "colab": {}
      },
      "source": [
        "submission = pd.DataFrame(submission)\n",
        "submission.to_csv('submission.csv',header=['label'],index=False)"
      ],
      "execution_count": 0,
      "outputs": []
    },
    {
      "cell_type": "markdown",
      "metadata": {
        "id": "_MpvW3DItO19",
        "colab_type": "text"
      },
      "source": [
        "Note: Do take a look at the submission format.The submission file should contain a header.For eg here it is \"label\". "
      ]
    },
    {
      "cell_type": "markdown",
      "metadata": {
        "id": "Q10YwW2otO19",
        "colab_type": "text"
      },
      "source": [
        "## To download the generated csv in collab run the below command"
      ]
    },
    {
      "cell_type": "code",
      "metadata": {
        "id": "1j_tIKsQtO1-",
        "colab_type": "code",
        "colab": {}
      },
      "source": [
        "from google.colab import files\n",
        "files.download('submission.csv') "
      ],
      "execution_count": 0,
      "outputs": []
    },
    {
      "cell_type": "markdown",
      "metadata": {
        "id": "Q5VBOnfxtO2D",
        "colab_type": "text"
      },
      "source": [
        "### Go to [platform](https://www.aicrowd.com/challenges/aicrowd-blitz-may-2020/problems/pkhnd). Participate in the challenge and submit the submission.csv generated."
      ]
    },
    {
      "cell_type": "code",
      "metadata": {
        "id": "fsUBEpMgtO2E",
        "colab_type": "code",
        "colab": {}
      },
      "source": [
        ""
      ],
      "execution_count": 0,
      "outputs": []
    }
  ]
}