{
  "nbformat": 4,
  "nbformat_minor": 0,
  "metadata": {
    "kernelspec": {
      "display_name": "Python 3",
      "language": "python",
      "name": "python3"
    },
    "language_info": {
      "codemirror_mode": {
        "name": "ipython",
        "version": 3
      },
      "file_extension": ".py",
      "mimetype": "text/x-python",
      "name": "python",
      "nbconvert_exporter": "python",
      "pygments_lexer": "ipython3",
      "version": "3.7.3"
    },
    "colab": {
      "name": "MINILEAVES.ipynb",
      "provenance": [],
      "collapsed_sections": [],
      "machine_shape": "hm"
    },
    "accelerator": "GPU",
    "widgets": {
      "application/vnd.jupyter.widget-state+json": {
        "066ebcb1ddab45aa9cfe9dc52d5eb3b1": {
          "model_module": "@jupyter-widgets/controls",
          "model_name": "HBoxModel",
          "state": {
            "_view_name": "HBoxView",
            "_dom_classes": [],
            "_model_name": "HBoxModel",
            "_view_module": "@jupyter-widgets/controls",
            "_model_module_version": "1.5.0",
            "_view_count": null,
            "_view_module_version": "1.5.0",
            "box_style": "",
            "layout": "IPY_MODEL_868610d0bde34989b3e510108445cb84",
            "_model_module": "@jupyter-widgets/controls",
            "children": [
              "IPY_MODEL_b393ce332eb34dcfb8f3d59f63151f25",
              "IPY_MODEL_51c1e1adfc7c435db0646f8043a0b3f3"
            ]
          }
        },
        "868610d0bde34989b3e510108445cb84": {
          "model_module": "@jupyter-widgets/base",
          "model_name": "LayoutModel",
          "state": {
            "_view_name": "LayoutView",
            "grid_template_rows": null,
            "right": null,
            "justify_content": null,
            "_view_module": "@jupyter-widgets/base",
            "overflow": null,
            "_model_module_version": "1.2.0",
            "_view_count": null,
            "flex_flow": null,
            "width": null,
            "min_width": null,
            "border": null,
            "align_items": null,
            "bottom": null,
            "_model_module": "@jupyter-widgets/base",
            "top": null,
            "grid_column": null,
            "overflow_y": null,
            "overflow_x": null,
            "grid_auto_flow": null,
            "grid_area": null,
            "grid_template_columns": null,
            "flex": null,
            "_model_name": "LayoutModel",
            "justify_items": null,
            "grid_row": null,
            "max_height": null,
            "align_content": null,
            "visibility": null,
            "align_self": null,
            "height": null,
            "min_height": null,
            "padding": null,
            "grid_auto_rows": null,
            "grid_gap": null,
            "max_width": null,
            "order": null,
            "_view_module_version": "1.2.0",
            "grid_template_areas": null,
            "object_position": null,
            "object_fit": null,
            "grid_auto_columns": null,
            "margin": null,
            "display": null,
            "left": null
          }
        },
        "b393ce332eb34dcfb8f3d59f63151f25": {
          "model_module": "@jupyter-widgets/controls",
          "model_name": "FloatProgressModel",
          "state": {
            "_view_name": "ProgressView",
            "style": "IPY_MODEL_8c809742bfa24c699faa2516c6a54387",
            "_dom_classes": [],
            "description": "100%",
            "_model_name": "FloatProgressModel",
            "bar_style": "success",
            "max": 115730790,
            "_view_module": "@jupyter-widgets/controls",
            "_model_module_version": "1.5.0",
            "value": 115730790,
            "_view_count": null,
            "_view_module_version": "1.5.0",
            "orientation": "horizontal",
            "min": 0,
            "description_tooltip": null,
            "_model_module": "@jupyter-widgets/controls",
            "layout": "IPY_MODEL_aece21df94d7457299ccf8256f9daad8"
          }
        },
        "51c1e1adfc7c435db0646f8043a0b3f3": {
          "model_module": "@jupyter-widgets/controls",
          "model_name": "HTMLModel",
          "state": {
            "_view_name": "HTMLView",
            "style": "IPY_MODEL_1d8775006a2441ae84224e4f6b44d454",
            "_dom_classes": [],
            "description": "",
            "_model_name": "HTMLModel",
            "placeholder": "​",
            "_view_module": "@jupyter-widgets/controls",
            "_model_module_version": "1.5.0",
            "value": " 110M/110M [00:03&lt;00:00, 29.0MB/s]",
            "_view_count": null,
            "_view_module_version": "1.5.0",
            "description_tooltip": null,
            "_model_module": "@jupyter-widgets/controls",
            "layout": "IPY_MODEL_1a1efe151b304002a89615aa4c0e2a6f"
          }
        },
        "8c809742bfa24c699faa2516c6a54387": {
          "model_module": "@jupyter-widgets/controls",
          "model_name": "ProgressStyleModel",
          "state": {
            "_view_name": "StyleView",
            "_model_name": "ProgressStyleModel",
            "description_width": "initial",
            "_view_module": "@jupyter-widgets/base",
            "_model_module_version": "1.5.0",
            "_view_count": null,
            "_view_module_version": "1.2.0",
            "bar_color": null,
            "_model_module": "@jupyter-widgets/controls"
          }
        },
        "aece21df94d7457299ccf8256f9daad8": {
          "model_module": "@jupyter-widgets/base",
          "model_name": "LayoutModel",
          "state": {
            "_view_name": "LayoutView",
            "grid_template_rows": null,
            "right": null,
            "justify_content": null,
            "_view_module": "@jupyter-widgets/base",
            "overflow": null,
            "_model_module_version": "1.2.0",
            "_view_count": null,
            "flex_flow": null,
            "width": null,
            "min_width": null,
            "border": null,
            "align_items": null,
            "bottom": null,
            "_model_module": "@jupyter-widgets/base",
            "top": null,
            "grid_column": null,
            "overflow_y": null,
            "overflow_x": null,
            "grid_auto_flow": null,
            "grid_area": null,
            "grid_template_columns": null,
            "flex": null,
            "_model_name": "LayoutModel",
            "justify_items": null,
            "grid_row": null,
            "max_height": null,
            "align_content": null,
            "visibility": null,
            "align_self": null,
            "height": null,
            "min_height": null,
            "padding": null,
            "grid_auto_rows": null,
            "grid_gap": null,
            "max_width": null,
            "order": null,
            "_view_module_version": "1.2.0",
            "grid_template_areas": null,
            "object_position": null,
            "object_fit": null,
            "grid_auto_columns": null,
            "margin": null,
            "display": null,
            "left": null
          }
        },
        "1d8775006a2441ae84224e4f6b44d454": {
          "model_module": "@jupyter-widgets/controls",
          "model_name": "DescriptionStyleModel",
          "state": {
            "_view_name": "StyleView",
            "_model_name": "DescriptionStyleModel",
            "description_width": "",
            "_view_module": "@jupyter-widgets/base",
            "_model_module_version": "1.5.0",
            "_view_count": null,
            "_view_module_version": "1.2.0",
            "_model_module": "@jupyter-widgets/controls"
          }
        },
        "1a1efe151b304002a89615aa4c0e2a6f": {
          "model_module": "@jupyter-widgets/base",
          "model_name": "LayoutModel",
          "state": {
            "_view_name": "LayoutView",
            "grid_template_rows": null,
            "right": null,
            "justify_content": null,
            "_view_module": "@jupyter-widgets/base",
            "overflow": null,
            "_model_module_version": "1.2.0",
            "_view_count": null,
            "flex_flow": null,
            "width": null,
            "min_width": null,
            "border": null,
            "align_items": null,
            "bottom": null,
            "_model_module": "@jupyter-widgets/base",
            "top": null,
            "grid_column": null,
            "overflow_y": null,
            "overflow_x": null,
            "grid_auto_flow": null,
            "grid_area": null,
            "grid_template_columns": null,
            "flex": null,
            "_model_name": "LayoutModel",
            "justify_items": null,
            "grid_row": null,
            "max_height": null,
            "align_content": null,
            "visibility": null,
            "align_self": null,
            "height": null,
            "min_height": null,
            "padding": null,
            "grid_auto_rows": null,
            "grid_gap": null,
            "max_width": null,
            "order": null,
            "_view_module_version": "1.2.0",
            "grid_template_areas": null,
            "object_position": null,
            "object_fit": null,
            "grid_auto_columns": null,
            "margin": null,
            "display": null,
            "left": null
          }
        }
      }
    }
  },
  "cells": [
    {
      "cell_type": "markdown",
      "metadata": {
        "id": "hZ8XFj4b64Bh",
        "colab_type": "text"
      },
      "source": [
        "## Download data\n",
        "The first step is to download our train and test datasets. We will be training a classifier on the training dataset and make predictions on test dataset.\n"
      ]
    },
    {
      "cell_type": "code",
      "metadata": {
        "id": "OZi13Wbm64Bi",
        "colab_type": "code",
        "colab": {
          "base_uri": "https://localhost:8080/",
          "height": 756
        },
        "outputId": "76de4816-9bc3-4fc8-dccf-a51bba58d575"
      },
      "source": [
        "#Donwload the datasets\n",
        "!wget https://s3.eu-central-1.wasabisys.com/aicrowd-practice-challenges/public/minileaves/v0.1/train-images.npy\n",
        "!wget https://s3.eu-central-1.wasabisys.com/aicrowd-practice-challenges/public/minileaves/v0.1/train-labels.npy\n",
        "!wget https://s3.eu-central-1.wasabisys.com/aicrowd-practice-challenges/public/minileaves/v0.1/test-images.npy\n",
        "!wget https://s3.eu-central-1.wasabisys.com/aicrowd-practice-challenges/public/minileaves/v0.1/all_classes.txt\n",
        "    "
      ],
      "execution_count": 1,
      "outputs": [
        {
          "output_type": "stream",
          "text": [
            "--2020-05-20 18:54:42--  https://s3.eu-central-1.wasabisys.com/aicrowd-practice-challenges/public/minileaves/v0.1/train-images.npy\n",
            "Resolving s3.eu-central-1.wasabisys.com (s3.eu-central-1.wasabisys.com)... 130.117.252.13, 130.117.252.12, 130.117.252.11, ...\n",
            "Connecting to s3.eu-central-1.wasabisys.com (s3.eu-central-1.wasabisys.com)|130.117.252.13|:443... connected.\n",
            "HTTP request sent, awaiting response... 200 OK\n",
            "Length: 133527680 (127M) [binary/octet-stream]\n",
            "Saving to: ‘train-images.npy’\n",
            "\n",
            "train-images.npy    100%[===================>] 127.34M  71.2MB/s    in 1.8s    \n",
            "\n",
            "2020-05-20 18:54:44 (71.2 MB/s) - ‘train-images.npy’ saved [133527680/133527680]\n",
            "\n",
            "--2020-05-20 18:54:46--  https://s3.eu-central-1.wasabisys.com/aicrowd-practice-challenges/public/minileaves/v0.1/train-labels.npy\n",
            "Resolving s3.eu-central-1.wasabisys.com (s3.eu-central-1.wasabisys.com)... 130.117.252.11, 130.117.252.10, 130.117.252.12, ...\n",
            "Connecting to s3.eu-central-1.wasabisys.com (s3.eu-central-1.wasabisys.com)|130.117.252.11|:443... connected.\n",
            "HTTP request sent, awaiting response... 200 OK\n",
            "Length: 347856 (340K) [binary/octet-stream]\n",
            "Saving to: ‘train-labels.npy’\n",
            "\n",
            "train-labels.npy    100%[===================>] 339.70K  --.-KB/s    in 0.04s   \n",
            "\n",
            "2020-05-20 18:54:47 (8.21 MB/s) - ‘train-labels.npy’ saved [347856/347856]\n",
            "\n",
            "--2020-05-20 18:54:50--  https://s3.eu-central-1.wasabisys.com/aicrowd-practice-challenges/public/minileaves/v0.1/test-images.npy\n",
            "Resolving s3.eu-central-1.wasabisys.com (s3.eu-central-1.wasabisys.com)... 130.117.252.16, 130.117.252.13, 130.117.252.11, ...\n",
            "Connecting to s3.eu-central-1.wasabisys.com (s3.eu-central-1.wasabisys.com)|130.117.252.16|:443... connected.\n",
            "HTTP request sent, awaiting response... 200 OK\n",
            "Length: 33294464 (32M) [binary/octet-stream]\n",
            "Saving to: ‘test-images.npy’\n",
            "\n",
            "test-images.npy     100%[===================>]  31.75M  48.1MB/s    in 0.7s    \n",
            "\n",
            "2020-05-20 18:54:51 (48.1 MB/s) - ‘test-images.npy’ saved [33294464/33294464]\n",
            "\n",
            "--2020-05-20 18:54:54--  https://s3.eu-central-1.wasabisys.com/aicrowd-practice-challenges/public/minileaves/v0.1/all_classes.txt\n",
            "Resolving s3.eu-central-1.wasabisys.com (s3.eu-central-1.wasabisys.com)... 130.117.252.16, 130.117.252.13, 130.117.252.11, ...\n",
            "Connecting to s3.eu-central-1.wasabisys.com (s3.eu-central-1.wasabisys.com)|130.117.252.16|:443... connected.\n",
            "HTTP request sent, awaiting response... 200 OK\n",
            "Length: 886 [text/plain]\n",
            "Saving to: ‘all_classes.txt’\n",
            "\n",
            "all_classes.txt     100%[===================>]     886  --.-KB/s    in 0s      \n",
            "\n",
            "2020-05-20 18:54:54 (8.28 MB/s) - ‘all_classes.txt’ saved [886/886]\n",
            "\n"
          ],
          "name": "stdout"
        }
      ]
    },
    {
      "cell_type": "markdown",
      "metadata": {
        "id": "5ScP-FfE64Bl",
        "colab_type": "text"
      },
      "source": [
        "\n",
        "## Import packages"
      ]
    },
    {
      "cell_type": "code",
      "metadata": {
        "id": "jBDhYMg3adr1",
        "colab_type": "code",
        "colab": {
          "base_uri": "https://localhost:8080/",
          "height": 104
        },
        "outputId": "9f38e61e-61fd-4554-f486-7c6fe96fa004"
      },
      "source": [
        "import sys\n",
        "!{sys.executable} -m pip install ttach"
      ],
      "execution_count": 2,
      "outputs": [
        {
          "output_type": "stream",
          "text": [
            "Collecting ttach\n",
            "  Downloading https://files.pythonhosted.org/packages/53/22/470bb42f90505dc572f6bbcf3ac84d67aaf1554cd48cc08f788c36fec129/ttach-0.0.2-py3-none-any.whl\n",
            "Installing collected packages: ttach\n",
            "Successfully installed ttach-0.0.2\n"
          ],
          "name": "stdout"
        }
      ]
    },
    {
      "cell_type": "code",
      "metadata": {
        "id": "PTlTYgD564Bl",
        "colab_type": "code",
        "colab": {}
      },
      "source": [
        "import torchvision.transforms as transforms\n",
        "from torch.utils.data.sampler import SubsetRandomSampler, WeightedRandomSampler\n",
        "import torch\n",
        "import torch.nn as nn\n",
        "import torch.nn.functional as F\n",
        "from torch.optim import lr_scheduler\n",
        "from torch.utils.data import TensorDataset, DataLoader, Dataset\n",
        "import torchvision\n",
        "from torchvision import models\n",
        "import torch.optim as optim\n",
        "import pandas as pd\n",
        "import numpy as np\n",
        "import cv2\n",
        "import os\n",
        "import ttach as tta\n",
        "from sklearn import preprocessing\n",
        "from sklearn.model_selection import train_test_split\n",
        "import time\n",
        "import copy\n",
        "from scipy.ndimage.filters import median_filter"
      ],
      "execution_count": 0,
      "outputs": []
    },
    {
      "cell_type": "markdown",
      "metadata": {
        "id": "iRSRLVzT64Bo",
        "colab_type": "text"
      },
      "source": [
        "## Load Data"
      ]
    },
    {
      "cell_type": "code",
      "metadata": {
        "id": "rQJmfZI664Bp",
        "colab_type": "code",
        "colab": {}
      },
      "source": [
        "train_images_path = \"train-images.npy\" #path where data is stored\n",
        "train_labels_path = \"train-labels.npy\"\n",
        "\n",
        "train_images = np.load(train_images_path)\n",
        "train_labels = np.load(train_labels_path)\n",
        "\n",
        "# Load Class mapping\n",
        "class_names = [x.strip() for x in open(\"all_classes.txt\").readlines()]"
      ],
      "execution_count": 0,
      "outputs": []
    },
    {
      "cell_type": "markdown",
      "metadata": {
        "id": "9YdUDi9HV5Y6",
        "colab_type": "text"
      },
      "source": [
        "## Unsharp Masking"
      ]
    },
    {
      "cell_type": "code",
      "metadata": {
        "id": "lsJcTnS6V0B5",
        "colab_type": "code",
        "colab": {}
      },
      "source": [
        "def unsharp(image, sigma, strength):\n",
        "\n",
        "    # Median filtering\n",
        "    image_mf = median_filter(image, sigma)\n",
        "\n",
        "    # Calculate the Laplacian\n",
        "    lap = cv2.Laplacian(image_mf,cv2.CV_64F)\n",
        "\n",
        "    # Calculate the sharpened image\n",
        "    sharp = image-strength*lap\n",
        "\n",
        "    # Saturate the pixels in either direction\n",
        "    sharp[sharp>255] = 255\n",
        "    sharp[sharp<0] = 0\n",
        "    \n",
        "    return sharp"
      ],
      "execution_count": 0,
      "outputs": []
    },
    {
      "cell_type": "markdown",
      "metadata": {
        "id": "qSM6QXhP64Bx",
        "colab_type": "text"
      },
      "source": [
        "# Custom Dataset"
      ]
    },
    {
      "cell_type": "code",
      "metadata": {
        "id": "n22ZgkNVLE5h",
        "colab_type": "code",
        "colab": {}
      },
      "source": [
        "class Minileaves(Dataset):\n",
        "    def __init__(self,data_list,transform=None,train=True,labels=None):\n",
        "        super().__init__()\n",
        "        self.data_list = data_list\n",
        "        self.lbl = labels\n",
        "        self.transform = transform\n",
        "        self.train = train\n",
        "    \n",
        "    def __len__(self):\n",
        "        return self.data_list.shape[0]\n",
        "    \n",
        "    def __getitem__(self,item):\n",
        "        if self.train:\n",
        "          img,label = self.data_list[item], self.lbl[item]\n",
        "        else:\n",
        "          img = self.data_list[item]\n",
        "\n",
        "        img = cv2.resize(img,(256,256))\n",
        "        img = cv2.cvtColor(img, cv2.COLOR_BGR2LAB)\n",
        "        if self.transform is not None:\n",
        "            img = self.transform(img)\n",
        "        if self.train:\n",
        "          return {\n",
        "              'gt' : img,\n",
        "              'label' : torch.tensor(label)\n",
        "\n",
        "          }\n",
        "        else:\n",
        "          return {\n",
        "              'gt':img\n",
        "          }"
      ],
      "execution_count": 0,
      "outputs": []
    },
    {
      "cell_type": "markdown",
      "metadata": {
        "id": "GFMPqX3FWa8Q",
        "colab_type": "text"
      },
      "source": [
        "## Transformations"
      ]
    },
    {
      "cell_type": "code",
      "metadata": {
        "id": "3YH3mMFmLEy3",
        "colab_type": "code",
        "colab": {}
      },
      "source": [
        "transforms_train = transforms.Compose([\n",
        "    transforms.ToPILImage(),\n",
        "    transforms.RandomRotation(90),\n",
        "    transforms.RandomAffine(degrees=0,translate=(0.2,0.2), scale=(0.8,1.2)),\n",
        "    transforms.RandomHorizontalFlip(),\n",
        "    transforms.ColorJitter(),\n",
        "    transforms.ToTensor(),\n",
        "    transforms.Normalize( mean = np.array([0.485, 0.456, 0.406]),\n",
        "    std = np.array([0.229, 0.224, 0.225]))\n",
        "])"
      ],
      "execution_count": 0,
      "outputs": []
    },
    {
      "cell_type": "markdown",
      "metadata": {
        "id": "xRqspCpf64B0",
        "colab_type": "text"
      },
      "source": [
        "## Split Data into Train and Validation\n",
        "Now we eventually want to see how well our classifier is performing, but we dont have the test data labels with us to check.\n",
        "What do we do ? We split our dataset into a training set and a validation set. The idea is that we test our classifier on validation set in order to get an idea of how well our classifier works. This way we can also ensure that we dont [overfit](https://machinelearningmastery.com/overfitting-and-underfitting-with-machine-learning-algorithms/) on the training dataset. "
      ]
    },
    {
      "cell_type": "code",
      "metadata": {
        "id": "eKVN535zYd6k",
        "colab_type": "code",
        "colab": {}
      },
      "source": [
        "x_train, x_val, y_train, y_val = train_test_split(train_images, train_labels, test_size=0.2, random_state=69)"
      ],
      "execution_count": 0,
      "outputs": []
    },
    {
      "cell_type": "markdown",
      "metadata": {
        "id": "dVqH8q4FWp_4",
        "colab_type": "text"
      },
      "source": [
        "## Synthetic Minority Over-sampling TEchnique (SMOTE) for imbalanced data"
      ]
    },
    {
      "cell_type": "code",
      "metadata": {
        "id": "yiKnyItYWkkg",
        "colab_type": "code",
        "colab": {}
      },
      "source": [
        "class_sample_count = np.array([ len(np.where(y_train==t)[0]) for t in np.unique(y_train) ])\n",
        "wt = 1. / class_sample_count\n",
        "sample_wt = np.array([wt[t] for t in y_train])\n",
        "sample_wt = torch.from_numpy(sample_wt)\n",
        "\n",
        "sampler = WeightedRandomSampler(sample_wt.type('torch.DoubleTensor'), len(sample_wt))\n",
        "\n",
        "train_data = Minileaves(data_list=x_train,transform = transforms_train, labels=y_train)\n",
        "val_data = Minileaves(data_list=x_val,transform = transforms_train, labels=y_val)"
      ],
      "execution_count": 0,
      "outputs": []
    },
    {
      "cell_type": "markdown",
      "metadata": {
        "id": "qALhMB5bXaJc",
        "colab_type": "text"
      },
      "source": [
        "### Create train and validation loaders"
      ]
    },
    {
      "cell_type": "code",
      "metadata": {
        "id": "D0NLc4ikLEbb",
        "colab_type": "code",
        "colab": {}
      },
      "source": [
        "batch = 16\n",
        "valid_size = 0.2\n",
        "num = train_data.__len__()\n",
        "# Dividing the indices for train and cross validation\n",
        "indices = list(range(num))\n",
        "np.random.shuffle(indices)\n",
        "split = int(np.floor(valid_size*num))\n",
        "train_idx,valid_idx = indices[split:], indices[:split]\n",
        "\n",
        "#Create Samplers\n",
        "train_sampler = SubsetRandomSampler(train_idx)\n",
        "valid_sampler = SubsetRandomSampler(valid_idx)\n",
        "\n",
        "train_loader = DataLoader(train_data, batch_size = batch, sampler = sampler)\n",
        "valid_loader = DataLoader(val_data, batch_size = batch)"
      ],
      "execution_count": 0,
      "outputs": []
    },
    {
      "cell_type": "code",
      "metadata": {
        "id": "BjpST7WAaa_7",
        "colab_type": "code",
        "outputId": "f4274dc9-7d9d-49ea-967a-2c8be6a45473",
        "colab": {
          "base_uri": "https://localhost:8080/",
          "height": 34
        }
      },
      "source": [
        "device = torch.device(\"cuda:0\" if torch.cuda.is_available() else \"cpu\")\n",
        "# Assuming that we are on a CUDA machine, this should print a CUDA device:\n",
        "print(device)"
      ],
      "execution_count": 11,
      "outputs": [
        {
          "output_type": "stream",
          "text": [
            "cuda:0\n"
          ],
          "name": "stdout"
        }
      ]
    },
    {
      "cell_type": "code",
      "metadata": {
        "id": "i-MQQqkvaa8m",
        "colab_type": "code",
        "colab": {}
      },
      "source": [
        "dataloaders = {}\n",
        "dataset_sizes = {}\n",
        "dataloaders['train'] = train_loader\n",
        "dataloaders['val'] = valid_loader\n",
        "dataset_sizes['train'] = train_sampler.__len__()\n",
        "dataset_sizes['val'] = valid_sampler.__len__()"
      ],
      "execution_count": 0,
      "outputs": []
    },
    {
      "cell_type": "code",
      "metadata": {
        "id": "BMNU52Vraayf",
        "colab_type": "code",
        "colab": {}
      },
      "source": [
        "def train_model(model, criterion, optimizer, scheduler, num_epochs=25):\n",
        "    since = time.time()\n",
        "\n",
        "    best_model_wts = copy.deepcopy(model.state_dict())\n",
        "    best_acc = 0.0\n",
        "\n",
        "    for epoch in range(num_epochs):\n",
        "        print('Epoch {}/{}'.format(epoch, num_epochs - 1))\n",
        "        print('-' * 10)\n",
        "\n",
        "        # Each epoch has a training and validation phase\n",
        "        for phase in ['train', 'val']:\n",
        "            if phase == 'train':\n",
        "                model.train()  # Set model to training mode\n",
        "            else:\n",
        "                model.eval()   # Set model to evaluate mode\n",
        "\n",
        "            running_loss = 0.0\n",
        "            running_corrects = 0\n",
        "\n",
        "            # Iterate over data.\n",
        "            for data in dataloaders[phase]:\n",
        "                inputs = data['gt'].squeeze(0).to(device)\n",
        "                labels = data['label'].to(device)\n",
        "                # inputs = inputs.to(device)\n",
        "                # labels = labels.to(device)\n",
        "\n",
        "                # zero the parameter gradients\n",
        "                optimizer.zero_grad()\n",
        "\n",
        "                # forward\n",
        "                # track history if only in train\n",
        "                with torch.set_grad_enabled(phase == 'train'):\n",
        "                    outputs = model(inputs)\n",
        "                    _, preds = torch.max(outputs, 1)\n",
        "                    loss = criterion(outputs, labels)\n",
        "\n",
        "                    # backward + optimize only if in training phase\n",
        "                    if phase == 'train':\n",
        "                        loss.backward()\n",
        "                        optimizer.step()\n",
        "\n",
        "                # statistics\n",
        "                running_loss += loss.item() * inputs.size(0)\n",
        "                running_corrects += torch.sum(preds == labels.data)\n",
        "            if phase == 'train':\n",
        "                scheduler.step()\n",
        "\n",
        "            epoch_loss = running_loss / dataset_sizes[phase]\n",
        "            epoch_acc = running_corrects.double() / dataset_sizes[phase]\n",
        "\n",
        "            print('{} Loss: {:.4f} Acc: {:.4f}'.format(\n",
        "                phase, epoch_loss, epoch_acc))\n",
        "\n",
        "            # deep copy the model\n",
        "            if phase == 'val' and epoch_acc > best_acc:\n",
        "                best_acc = epoch_acc\n",
        "                best_model_wts = copy.deepcopy(model.state_dict())\n",
        "                torch.save(model.state_dict(), 'best_model_so_fardensenet161_unsharp.pth')\n",
        "\n",
        "        print()\n",
        "\n",
        "    time_elapsed = time.time() - since\n",
        "    print('Training complete in {:.0f}m {:.0f}s'.format(\n",
        "        time_elapsed // 60, time_elapsed % 60))\n",
        "    print('Best val Acc: {:4f}'.format(best_acc))\n",
        "\n",
        "    # load best model weights\n",
        "    model.load_state_dict(best_model_wts)\n",
        "    return model"
      ],
      "execution_count": 0,
      "outputs": []
    },
    {
      "cell_type": "markdown",
      "metadata": {
        "id": "2iMXSgSNX3IC",
        "colab_type": "text"
      },
      "source": [
        "### Using pretrained densenet161 model"
      ]
    },
    {
      "cell_type": "code",
      "metadata": {
        "id": "wL47wvvFaxzJ",
        "colab_type": "code",
        "colab": {
          "base_uri": "https://localhost:8080/",
          "height": 102,
          "referenced_widgets": [
            "066ebcb1ddab45aa9cfe9dc52d5eb3b1",
            "868610d0bde34989b3e510108445cb84",
            "b393ce332eb34dcfb8f3d59f63151f25",
            "51c1e1adfc7c435db0646f8043a0b3f3",
            "8c809742bfa24c699faa2516c6a54387",
            "aece21df94d7457299ccf8256f9daad8",
            "1d8775006a2441ae84224e4f6b44d454",
            "1a1efe151b304002a89615aa4c0e2a6f"
          ]
        },
        "outputId": "cd111860-dc2a-4ca4-a1bc-1317eef7720a"
      },
      "source": [
        "model_ft = models.densenet161(pretrained=True)\n",
        "num_ftrs = model_ft.classifier.in_features\n",
        "model_ft.classifier = nn.Linear(num_ftrs, 38)\n",
        "\n",
        "model_ft = model_ft.to(device)\n",
        "\n",
        "criterion = nn.CrossEntropyLoss()\n",
        "optimizer_ft = optim.Adam(model_ft.parameters(), lr=0.0001)\n",
        "\n",
        "# Decay LR by a factor of 0.1 every 7 epochs\n",
        "exp_lr_scheduler = lr_scheduler.StepLR(optimizer_ft, step_size=7, gamma=0.1)"
      ],
      "execution_count": 14,
      "outputs": [
        {
          "output_type": "stream",
          "text": [
            "Downloading: \"https://download.pytorch.org/models/densenet161-8d451a50.pth\" to /root/.cache/torch/checkpoints/densenet161-8d451a50.pth\n"
          ],
          "name": "stderr"
        },
        {
          "output_type": "display_data",
          "data": {
            "application/vnd.jupyter.widget-view+json": {
              "model_id": "066ebcb1ddab45aa9cfe9dc52d5eb3b1",
              "version_minor": 0,
              "version_major": 2
            },
            "text/plain": [
              "HBox(children=(FloatProgress(value=0.0, max=115730790.0), HTML(value='')))"
            ]
          },
          "metadata": {
            "tags": []
          }
        },
        {
          "output_type": "stream",
          "text": [
            "\n"
          ],
          "name": "stdout"
        }
      ]
    },
    {
      "cell_type": "markdown",
      "metadata": {
        "id": "dHFsC16fX7yH",
        "colab_type": "text"
      },
      "source": [
        "### Training Time"
      ]
    },
    {
      "cell_type": "code",
      "metadata": {
        "id": "FHbcCCsOaxwV",
        "colab_type": "code",
        "colab": {}
      },
      "source": [
        "model_ft = train_model(model_ft, criterion, optimizer_ft, exp_lr_scheduler, num_epochs=20)"
      ],
      "execution_count": 0,
      "outputs": []
    },
    {
      "cell_type": "markdown",
      "metadata": {
        "id": "t5tc8k1mYrhw",
        "colab_type": "text"
      },
      "source": [
        "## Test Time Augmentation"
      ]
    },
    {
      "cell_type": "code",
      "metadata": {
        "id": "76SGmv2eYu1X",
        "colab_type": "code",
        "colab": {}
      },
      "source": [
        "transforms_tta = tta.Compose([       \n",
        "\t  tta.HorizontalFlip(),\n",
        "    tta.VerticalFlip(),\n",
        "    tta.Rotate90(angles=[0, 90]),\n",
        "    ])\n",
        "tta_model = tta.ClassificationTTAWrapper(model_ft, transforms_tta,merge_mode='mean')"
      ],
      "execution_count": 0,
      "outputs": []
    },
    {
      "cell_type": "markdown",
      "metadata": {
        "id": "qFPvyLh064CD",
        "colab_type": "text"
      },
      "source": [
        "## Predict on Validation\n",
        "Now we predict our trained classifier on the validation set and evaluate our model"
      ]
    },
    {
      "cell_type": "code",
      "metadata": {
        "id": "ig2TTAfOaxtL",
        "colab_type": "code",
        "colab": {}
      },
      "source": [
        "model_ft.eval()\n",
        "correct = 0\n",
        "total = 0\n",
        "pred_list = []\n",
        "correct_list = []\n",
        "with torch.no_grad():\n",
        "    for images in valid_loader:\n",
        "        data = images['gt'].squeeze(0).to(device)\n",
        "        target = images['label'].to(device)\n",
        "        outputs = tta_model(data)\n",
        "        _, predicted = torch.max(outputs.data, 1)\n",
        "        total += target.size(0)\n",
        "        pr = predicted.detach().cpu().numpy()\n",
        "        for i in pr:\n",
        "          pred_list.append(i)\n",
        "        tg = target.detach().cpu().numpy()\n",
        "        for i in tg:\n",
        "          correct_list.append(i)\n",
        "        correct += (predicted == target).sum().item()\n",
        "\n",
        "print('Accuracy of the network on the val images: %f %%' % (100 * correct / total))"
      ],
      "execution_count": 0,
      "outputs": []
    },
    {
      "cell_type": "markdown",
      "metadata": {
        "id": "vHFHRgf464CG",
        "colab_type": "text"
      },
      "source": [
        "## Evaluate the Performance\n",
        "We use the same metrics as that will be used for the test set.  \n",
        "[F1 score](https://en.wikipedia.org/wiki/F1_score) and [Log Loss](https://scikit-learn.org/stable/modules/generated/sklearn.metrics.log_loss.html) are the metrics for this challenge"
      ]
    },
    {
      "cell_type": "code",
      "metadata": {
        "id": "asyjZoshZeKx",
        "colab_type": "code",
        "colab": {}
      },
      "source": [
        "from sklearn.metrics import f1_score,precision_score,log_loss   \n",
        "print(\"F1 score :\",f1_score(correct_list,pred_list,average='micro')*100)"
      ],
      "execution_count": 0,
      "outputs": []
    },
    {
      "cell_type": "markdown",
      "metadata": {
        "id": "Ik1QnK3O64CK",
        "colab_type": "text"
      },
      "source": [
        "# Prediction on Evaluation Set"
      ]
    },
    {
      "cell_type": "markdown",
      "metadata": {
        "id": "gm97GjEd64CK",
        "colab_type": "text"
      },
      "source": [
        "## Load Test Set"
      ]
    },
    {
      "cell_type": "code",
      "metadata": {
        "id": "kbun6gqF64CL",
        "colab_type": "code",
        "colab": {}
      },
      "source": [
        "test_file_path = \"test-images.npy\"\n",
        "test_images = np.load(test_file_path)"
      ],
      "execution_count": 0,
      "outputs": []
    },
    {
      "cell_type": "markdown",
      "metadata": {
        "id": "D73XyPUuZthX",
        "colab_type": "text"
      },
      "source": [
        "## Test transformation and Loader"
      ]
    },
    {
      "cell_type": "code",
      "metadata": {
        "id": "H51ARRCxZs8x",
        "colab_type": "code",
        "colab": {}
      },
      "source": [
        "transforms_test = transforms.Compose([\n",
        "    transforms.ToPILImage(),\n",
        "    transforms.ToTensor(),\n",
        "    transforms.Normalize( mean = np.array([0.485, 0.456, 0.406]),\n",
        "    std = np.array([0.229, 0.224, 0.225]))\n",
        "])\n",
        "\n",
        "test_data = Minileaves(data_list= test_images,transform = transforms_test,train=False)\n",
        "\n",
        "test_loader = DataLoader(test_data, batch_size=batch, shuffle=False)"
      ],
      "execution_count": 0,
      "outputs": []
    },
    {
      "cell_type": "markdown",
      "metadata": {
        "id": "FjtQiyZv64CO",
        "colab_type": "text"
      },
      "source": [
        "## Predict Test Set\n",
        "The moment of truth! Predict on test set and then we can make the submission."
      ]
    },
    {
      "cell_type": "code",
      "metadata": {
        "id": "KePL_0XA64CO",
        "colab_type": "code",
        "colab": {}
      },
      "source": [
        "model_ft.eval()\n",
        "preds = []\n",
        "with torch.no_grad():\n",
        "    for images in test_loader:\n",
        "        data = images['gt'].squeeze(0).to(device)\n",
        "        outputs = tta_model(data)\n",
        "        _, predicted = torch.max(outputs.data, 1)\n",
        "        pr = predicted.detach().cpu().numpy()\n",
        "        for i in pr:\n",
        "          preds.append(i)"
      ],
      "execution_count": 0,
      "outputs": []
    },
    {
      "cell_type": "markdown",
      "metadata": {
        "id": "twIuG9le64CQ",
        "colab_type": "text"
      },
      "source": [
        "## Save the prediction to csv"
      ]
    },
    {
      "cell_type": "code",
      "metadata": {
        "id": "CdjITVEJ64CR",
        "colab_type": "code",
        "colab": {}
      },
      "source": [
        "# Create Submission file        \n",
        "submission = pd.DataFrame(preds)\n",
        "submission.to_csv('submission_minileaves.csv',header=['class_index'],index=False)"
      ],
      "execution_count": 0,
      "outputs": []
    }
  ]
}