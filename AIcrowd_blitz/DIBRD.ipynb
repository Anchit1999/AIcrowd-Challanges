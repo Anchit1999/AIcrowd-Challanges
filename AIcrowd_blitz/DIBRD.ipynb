{
  "nbformat": 4,
  "nbformat_minor": 0,
  "metadata": {
    "kernelspec": {
      "display_name": "Python 3",
      "language": "python",
      "name": "python3"
    },
    "language_info": {
      "codemirror_mode": {
        "name": "ipython",
        "version": 3
      },
      "file_extension": ".py",
      "mimetype": "text/x-python",
      "name": "python",
      "nbconvert_exporter": "python",
      "pygments_lexer": "ipython3",
      "version": "3.7.3"
    },
    "colab": {
      "name": "DIBRD",
      "provenance": [],
      "toc_visible": true
    }
  },
  "cells": [
    {
      "cell_type": "code",
      "metadata": {
        "id": "u2n5ncFYGvS_",
        "colab_type": "code",
        "outputId": "221a9f50-0dae-4c6a-a50c-6544bad39301",
        "colab": {
          "base_uri": "https://localhost:8080/",
          "height": 386
        }
      },
      "source": [
        "!rm -rf data\n",
        "!mkdir data\n",
        "!wget https://s3.eu-central-1.wasabisys.com/aicrowd-practice-challenges/public/dibrd/v0.1/train.csv -O data/train.csv\n",
        "!wget https://s3.eu-central-1.wasabisys.com/aicrowd-practice-challenges/public/dibrd/v0.1/test.csv -O data/test.csv"
      ],
      "execution_count": 1,
      "outputs": [
        {
          "output_type": "stream",
          "text": [
            "--2020-05-20 18:22:58--  https://s3.eu-central-1.wasabisys.com/aicrowd-practice-challenges/public/dibrd/v0.1/train.csv\n",
            "Resolving s3.eu-central-1.wasabisys.com (s3.eu-central-1.wasabisys.com)... 130.117.252.12, 130.117.252.13, 130.117.252.10, ...\n",
            "Connecting to s3.eu-central-1.wasabisys.com (s3.eu-central-1.wasabisys.com)|130.117.252.12|:443... connected.\n",
            "HTTP request sent, awaiting response... 200 OK\n",
            "Length: 116826 (114K) [text/csv]\n",
            "Saving to: ‘data/train.csv’\n",
            "\n",
            "data/train.csv      100%[===================>] 114.09K   162KB/s    in 0.7s    \n",
            "\n",
            "2020-05-20 18:23:00 (162 KB/s) - ‘data/train.csv’ saved [116826/116826]\n",
            "\n",
            "--2020-05-20 18:23:02--  https://s3.eu-central-1.wasabisys.com/aicrowd-practice-challenges/public/dibrd/v0.1/test.csv\n",
            "Resolving s3.eu-central-1.wasabisys.com (s3.eu-central-1.wasabisys.com)... 130.117.252.12, 130.117.252.13, 130.117.252.10, ...\n",
            "Connecting to s3.eu-central-1.wasabisys.com (s3.eu-central-1.wasabisys.com)|130.117.252.12|:443... connected.\n",
            "HTTP request sent, awaiting response... 200 OK\n",
            "Length: 29188 (29K) [text/csv]\n",
            "Saving to: ‘data/test.csv’\n",
            "\n",
            "data/test.csv       100%[===================>]  28.50K   123KB/s    in 0.2s    \n",
            "\n",
            "2020-05-20 18:23:03 (123 KB/s) - ‘data/test.csv’ saved [29188/29188]\n",
            "\n"
          ],
          "name": "stdout"
        }
      ]
    },
    {
      "cell_type": "markdown",
      "metadata": {
        "id": "K2OX5cP2q6yY",
        "colab_type": "text"
      },
      "source": [
        "\n",
        "## Import packages"
      ]
    },
    {
      "cell_type": "code",
      "metadata": {
        "id": "29vKCjcvq6yY",
        "colab_type": "code",
        "colab": {}
      },
      "source": [
        "import pandas as pd\n",
        "import numpy as np\n",
        "from sklearn.model_selection import train_test_split\n",
        "from sklearn.linear_model import LogisticRegression\n",
        "from sklearn.svm import SVC\n",
        "from sklearn.metrics import f1_score,precision_score,recall_score,accuracy_score\n",
        "from tqdm import tqdm"
      ],
      "execution_count": 0,
      "outputs": []
    },
    {
      "cell_type": "markdown",
      "metadata": {
        "id": "4yKvKFfRq6yb",
        "colab_type": "text"
      },
      "source": [
        "## Load Data\n",
        "We use pandas library to load our data. Pandas loads them into dataframes which helps us analyze our data easily. Learn more about it [here](https://www.tutorialspoint.com/python_data_science/python_pandas.htm)"
      ]
    },
    {
      "cell_type": "code",
      "metadata": {
        "id": "-Qi_sgpyq6yc",
        "colab_type": "code",
        "colab": {}
      },
      "source": [
        "train_data_path = \"data/train.csv\" #path where data is stored"
      ],
      "execution_count": 0,
      "outputs": []
    },
    {
      "cell_type": "code",
      "metadata": {
        "id": "PqKlQhZ7q6yf",
        "colab_type": "code",
        "colab": {}
      },
      "source": [
        "train_data = pd.read_csv(train_data_path,header=None) #load data in dataframe using pandas"
      ],
      "execution_count": 0,
      "outputs": []
    },
    {
      "cell_type": "markdown",
      "metadata": {
        "id": "xDF3j24Mq6yh",
        "colab_type": "text"
      },
      "source": [
        "## Visualise the Dataset"
      ]
    },
    {
      "cell_type": "code",
      "metadata": {
        "id": "fgAcZBFDq6yi",
        "colab_type": "code",
        "outputId": "2a9a5017-ad59-41ea-c134-977d617ab0aa",
        "colab": {
          "base_uri": "https://localhost:8080/",
          "height": 195
        }
      },
      "source": [
        "train_data.head()"
      ],
      "execution_count": 5,
      "outputs": [
        {
          "output_type": "execute_result",
          "data": {
            "text/html": [
              "<div>\n",
              "<style scoped>\n",
              "    .dataframe tbody tr th:only-of-type {\n",
              "        vertical-align: middle;\n",
              "    }\n",
              "\n",
              "    .dataframe tbody tr th {\n",
              "        vertical-align: top;\n",
              "    }\n",
              "\n",
              "    .dataframe thead th {\n",
              "        text-align: right;\n",
              "    }\n",
              "</style>\n",
              "<table border=\"1\" class=\"dataframe\">\n",
              "  <thead>\n",
              "    <tr style=\"text-align: right;\">\n",
              "      <th></th>\n",
              "      <th>0</th>\n",
              "      <th>1</th>\n",
              "      <th>2</th>\n",
              "      <th>3</th>\n",
              "      <th>4</th>\n",
              "      <th>5</th>\n",
              "      <th>6</th>\n",
              "      <th>7</th>\n",
              "      <th>8</th>\n",
              "      <th>9</th>\n",
              "      <th>10</th>\n",
              "      <th>11</th>\n",
              "      <th>12</th>\n",
              "      <th>13</th>\n",
              "      <th>14</th>\n",
              "      <th>15</th>\n",
              "      <th>16</th>\n",
              "      <th>17</th>\n",
              "      <th>18</th>\n",
              "      <th>19</th>\n",
              "    </tr>\n",
              "  </thead>\n",
              "  <tbody>\n",
              "    <tr>\n",
              "      <th>0</th>\n",
              "      <td>1</td>\n",
              "      <td>1</td>\n",
              "      <td>75</td>\n",
              "      <td>63</td>\n",
              "      <td>60</td>\n",
              "      <td>55</td>\n",
              "      <td>48</td>\n",
              "      <td>35</td>\n",
              "      <td>13.195493</td>\n",
              "      <td>4.396967</td>\n",
              "      <td>0.104070</td>\n",
              "      <td>0.000000</td>\n",
              "      <td>0.000000</td>\n",
              "      <td>0.000000</td>\n",
              "      <td>0.000000</td>\n",
              "      <td>0.000000</td>\n",
              "      <td>0.513092</td>\n",
              "      <td>0.123966</td>\n",
              "      <td>0</td>\n",
              "      <td>1</td>\n",
              "    </tr>\n",
              "    <tr>\n",
              "      <th>1</th>\n",
              "      <td>1</td>\n",
              "      <td>1</td>\n",
              "      <td>79</td>\n",
              "      <td>76</td>\n",
              "      <td>74</td>\n",
              "      <td>72</td>\n",
              "      <td>69</td>\n",
              "      <td>50</td>\n",
              "      <td>61.559348</td>\n",
              "      <td>28.959444</td>\n",
              "      <td>12.778104</td>\n",
              "      <td>2.045287</td>\n",
              "      <td>0.038016</td>\n",
              "      <td>0.000000</td>\n",
              "      <td>0.000000</td>\n",
              "      <td>0.000000</td>\n",
              "      <td>0.527993</td>\n",
              "      <td>0.101884</td>\n",
              "      <td>0</td>\n",
              "      <td>1</td>\n",
              "    </tr>\n",
              "    <tr>\n",
              "      <th>2</th>\n",
              "      <td>1</td>\n",
              "      <td>1</td>\n",
              "      <td>41</td>\n",
              "      <td>41</td>\n",
              "      <td>40</td>\n",
              "      <td>40</td>\n",
              "      <td>38</td>\n",
              "      <td>35</td>\n",
              "      <td>6.090116</td>\n",
              "      <td>0.834492</td>\n",
              "      <td>0.027460</td>\n",
              "      <td>0.000000</td>\n",
              "      <td>0.000000</td>\n",
              "      <td>0.000000</td>\n",
              "      <td>0.000000</td>\n",
              "      <td>0.000000</td>\n",
              "      <td>0.506881</td>\n",
              "      <td>0.091535</td>\n",
              "      <td>1</td>\n",
              "      <td>0</td>\n",
              "    </tr>\n",
              "    <tr>\n",
              "      <th>3</th>\n",
              "      <td>1</td>\n",
              "      <td>1</td>\n",
              "      <td>17</td>\n",
              "      <td>16</td>\n",
              "      <td>16</td>\n",
              "      <td>14</td>\n",
              "      <td>12</td>\n",
              "      <td>9</td>\n",
              "      <td>75.438535</td>\n",
              "      <td>20.352500</td>\n",
              "      <td>5.237412</td>\n",
              "      <td>0.206817</td>\n",
              "      <td>0.003884</td>\n",
              "      <td>0.000971</td>\n",
              "      <td>0.000971</td>\n",
              "      <td>0.000971</td>\n",
              "      <td>0.544614</td>\n",
              "      <td>0.089329</td>\n",
              "      <td>1</td>\n",
              "      <td>1</td>\n",
              "    </tr>\n",
              "    <tr>\n",
              "      <th>4</th>\n",
              "      <td>1</td>\n",
              "      <td>1</td>\n",
              "      <td>63</td>\n",
              "      <td>63</td>\n",
              "      <td>63</td>\n",
              "      <td>59</td>\n",
              "      <td>57</td>\n",
              "      <td>48</td>\n",
              "      <td>13.558211</td>\n",
              "      <td>5.366467</td>\n",
              "      <td>0.604079</td>\n",
              "      <td>0.051511</td>\n",
              "      <td>0.000000</td>\n",
              "      <td>0.000000</td>\n",
              "      <td>0.000000</td>\n",
              "      <td>0.000000</td>\n",
              "      <td>0.552941</td>\n",
              "      <td>0.112387</td>\n",
              "      <td>0</td>\n",
              "      <td>1</td>\n",
              "    </tr>\n",
              "  </tbody>\n",
              "</table>\n",
              "</div>"
            ],
            "text/plain": [
              "   0   1   2   3   4   5   ...        14        15        16        17  18  19\n",
              "0   1   1  75  63  60  55  ...  0.000000  0.000000  0.513092  0.123966   0   1\n",
              "1   1   1  79  76  74  72  ...  0.000000  0.000000  0.527993  0.101884   0   1\n",
              "2   1   1  41  41  40  40  ...  0.000000  0.000000  0.506881  0.091535   1   0\n",
              "3   1   1  17  16  16  14  ...  0.000971  0.000971  0.544614  0.089329   1   1\n",
              "4   1   1  63  63  63  59  ...  0.000000  0.000000  0.552941  0.112387   0   1\n",
              "\n",
              "[5 rows x 20 columns]"
            ]
          },
          "metadata": {
            "tags": []
          },
          "execution_count": 5
        }
      ]
    },
    {
      "cell_type": "markdown",
      "metadata": {
        "id": "ufJrwcxhq6yl",
        "colab_type": "text"
      },
      "source": [
        "You can see the columns goes from 0 to 19, where columns from 0 to 18 represents features extracted from the image set and last column represents the type of patient i.e 1 if if signs of Diabetic Retinopathy is present else 0."
      ]
    },
    {
      "cell_type": "markdown",
      "metadata": {
        "id": "PznFtyc_q6yu",
        "colab_type": "text"
      },
      "source": [
        "## Define the Classifier\n",
        "Now we come to the juicy part. We have fixed our data and now we train a classifier. The classifier will learn the function by looking at the inputs and corresponding outputs. There are a ton of classifiers to choose from some being [Logistic Regression](https://towardsdatascience.com/logistic-regression-detailed-overview-46c4da4303bc), [SVM](https://towardsdatascience.com/support-vector-machine-introduction-to-machine-learning-algorithms-934a444fca47), [Random Forests](https://towardsdatascience.com/support-vector-machine-introduction-to-machine-learning-algorithms-934a444fca47), [Decision Trees](https://towardsdatascience.com/decision-trees-in-machine-learning-641b9c4e8052), etc.   \n",
        "Tip: A good model doesnt depend solely on the classifier but on the features(columns) you choose. So make sure to play with your data and keep only whats important. "
      ]
    },
    {
      "cell_type": "code",
      "metadata": {
        "id": "DZXKeAhWq6yu",
        "colab_type": "code",
        "colab": {}
      },
      "source": [
        "from sklearn import datasets\n",
        "from sklearn.model_selection import cross_val_score\n",
        "from sklearn.linear_model import LogisticRegression\n",
        "from sklearn.neighbors import KNeighborsClassifier\n",
        "from sklearn.naive_bayes import GaussianNB\n",
        "from sklearn.ensemble import RandomForestClassifier\n",
        "from sklearn.ensemble import VotingClassifier\n",
        "\n",
        "clf1 = SVC(kernel='poly', C = 100, gamma=0.0001, coef0=1.5, probability=True)\n",
        "clf2 = SVC(kernel='poly', C = 10, gamma=0.0001, coef0=2.5, probability=True)\n",
        "clf3 = SVC(kernel='poly', C = 1, gamma=0.0001, coef0=1.5, probability=True)\n",
        "clf4 = LogisticRegression(max_iter=5000)\n",
        "\n",
        "eclf = VotingClassifier(\n",
        "    estimators=[('svc1', clf1), ('svc2', clf2), ('svc3', clf3), ('lr', clf4)],\n",
        "    voting='soft', weights=[1,1,1,1])"
      ],
      "execution_count": 0,
      "outputs": []
    },
    {
      "cell_type": "markdown",
      "metadata": {
        "id": "z2SWvy_yq6yz",
        "colab_type": "text"
      },
      "source": [
        "## Train the classifier"
      ]
    },
    {
      "cell_type": "code",
      "metadata": {
        "id": "w6_wNwU19Lbj",
        "colab_type": "code",
        "colab": {
          "base_uri": "https://localhost:8080/",
          "height": 437
        },
        "outputId": "e01615ee-0f03-46d1-8b51-e29b269bc204"
      },
      "source": [
        "X = np.array(train_data.iloc[:])\n",
        "X_train, X_val= train_test_split(X, test_size=0.2, random_state=69)\n",
        "X_train,y_train = X_train[:,:-1],X_train[:,-1]\n",
        "X_val,y_val = X_val[:,:-1],X_val[:,-1]\n",
        "\n",
        "idx = [0, 1, 2, 3, 4, 6, 7, 8, 10, 12, 13, 14, 15, 16, 17]\n",
        "X_train = X_train[:, idx]\n",
        "eclf.fit(X_train, y_train)"
      ],
      "execution_count": 7,
      "outputs": [
        {
          "output_type": "execute_result",
          "data": {
            "text/plain": [
              "VotingClassifier(estimators=[('svc1',\n",
              "                              SVC(C=100, break_ties=False, cache_size=200,\n",
              "                                  class_weight=None, coef0=1.5,\n",
              "                                  decision_function_shape='ovr', degree=3,\n",
              "                                  gamma=0.0001, kernel='poly', max_iter=-1,\n",
              "                                  probability=True, random_state=None,\n",
              "                                  shrinking=True, tol=0.001, verbose=False)),\n",
              "                             ('svc2',\n",
              "                              SVC(C=10, break_ties=False, cache_size=200,\n",
              "                                  class_weight=None, coef0=2.5,\n",
              "                                  decision_fun...\n",
              "                                  shrinking=True, tol=0.001, verbose=False)),\n",
              "                             ('lr',\n",
              "                              LogisticRegression(C=1.0, class_weight=None,\n",
              "                                                 dual=False, fit_intercept=True,\n",
              "                                                 intercept_scaling=1,\n",
              "                                                 l1_ratio=None, max_iter=5000,\n",
              "                                                 multi_class='auto',\n",
              "                                                 n_jobs=None, penalty='l2',\n",
              "                                                 random_state=None,\n",
              "                                                 solver='lbfgs', tol=0.0001,\n",
              "                                                 verbose=0,\n",
              "                                                 warm_start=False))],\n",
              "                 flatten_transform=True, n_jobs=None, voting='soft',\n",
              "                 weights=[1, 1, 1, 1])"
            ]
          },
          "metadata": {
            "tags": []
          },
          "execution_count": 7
        }
      ]
    },
    {
      "cell_type": "markdown",
      "metadata": {
        "id": "e-TvF4Iuq6y2",
        "colab_type": "text"
      },
      "source": [
        "## Predict on Validation\n",
        "Now we predict our trained classifier on the validation set and evaluate our model# Predict on test set"
      ]
    },
    {
      "cell_type": "code",
      "metadata": {
        "id": "hbALZuPluCAP",
        "colab_type": "code",
        "colab": {}
      },
      "source": [
        "X_val = X_val[:, idx]\n",
        "yy = predsv = eclf.predict(X_val)"
      ],
      "execution_count": 0,
      "outputs": []
    },
    {
      "cell_type": "markdown",
      "metadata": {
        "id": "uUKxc6qWq6y7",
        "colab_type": "text"
      },
      "source": [
        "## Evaluate the Performance\n",
        "We use the same metrics as that will be used for the test set.  \n",
        "[F1 score](https://en.wikipedia.org/wiki/F1_score) are the metrics for this challenge"
      ]
    },
    {
      "cell_type": "code",
      "metadata": {
        "id": "safScVqgq6y8",
        "colab_type": "code",
        "colab": {}
      },
      "source": [
        "precision = precision_score(y_val,yy,average='micro')\n",
        "recall = recall_score(y_val,yy,average='micro')\n",
        "accuracy = accuracy_score(y_val,yy)\n",
        "f1 = f1_score(y_val,yy,average='macro')"
      ],
      "execution_count": 0,
      "outputs": []
    },
    {
      "cell_type": "code",
      "metadata": {
        "id": "C4e54-Zxq6y-",
        "colab_type": "code",
        "outputId": "747f1547-a842-4121-815b-9f597b7e8f05",
        "colab": {
          "base_uri": "https://localhost:8080/",
          "height": 84
        }
      },
      "source": [
        "print(\"Accuracy of the model is :\" ,accuracy)\n",
        "print(\"Recall of the model is :\" ,recall)\n",
        "print(\"Precision of the model is :\" ,precision)\n",
        "print(\"F1 score of the model is :\" ,f1)"
      ],
      "execution_count": 10,
      "outputs": [
        {
          "output_type": "stream",
          "text": [
            "Accuracy of the model is : 0.7771739130434783\n",
            "Recall of the model is : 0.7771739130434783\n",
            "Precision of the model is : 0.7771739130434783\n",
            "F1 score of the model is : 0.7756831494751866\n"
          ],
          "name": "stdout"
        }
      ]
    },
    {
      "cell_type": "markdown",
      "metadata": {
        "id": "wo88USTZq6zB",
        "colab_type": "text"
      },
      "source": [
        "# Prediction on Evaluation Set"
      ]
    },
    {
      "cell_type": "markdown",
      "metadata": {
        "id": "hkP4RELXq6zC",
        "colab_type": "text"
      },
      "source": [
        "## Load Test Set\n",
        "Load the test data now# Load the evaluation data"
      ]
    },
    {
      "cell_type": "code",
      "metadata": {
        "id": "fns_isofq6zC",
        "colab_type": "code",
        "colab": {}
      },
      "source": [
        "final_test_path = \"data/test.csv\"\n",
        "final_test = pd.read_csv(final_test_path,header=None)\n",
        "ft = np.array(final_test, dtype=np.float32)"
      ],
      "execution_count": 0,
      "outputs": []
    },
    {
      "cell_type": "markdown",
      "metadata": {
        "id": "c4APO90cq6zE",
        "colab_type": "text"
      },
      "source": [
        "## Predict Test Set\n",
        "Time for the moment of truth! Predict on test set and time to make the submission."
      ]
    },
    {
      "cell_type": "code",
      "metadata": {
        "id": "NB_fFpIFq6zF",
        "colab_type": "code",
        "colab": {}
      },
      "source": [
        "ft = ft[:, idx]\n",
        "submission = eclf.predict(ft)"
      ],
      "execution_count": 0,
      "outputs": []
    },
    {
      "cell_type": "markdown",
      "metadata": {
        "id": "JmMGeoPjq6zH",
        "colab_type": "text"
      },
      "source": [
        "## Save the prediction to csv"
      ]
    },
    {
      "cell_type": "code",
      "metadata": {
        "id": "7AsdPl46q6zI",
        "colab_type": "code",
        "colab": {}
      },
      "source": [
        "submission = pd.DataFrame(submission)\n",
        "submission.to_csv('submission_dibrd.csv',header=['label'],index=False)"
      ],
      "execution_count": 0,
      "outputs": []
    }
  ]
}